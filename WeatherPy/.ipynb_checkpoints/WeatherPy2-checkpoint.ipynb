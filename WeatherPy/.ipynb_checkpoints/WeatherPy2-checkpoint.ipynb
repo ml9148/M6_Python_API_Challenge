{
 "cells": [
  {
   "cell_type": "markdown",
   "metadata": {},
   "source": [
    "# WeatherPy\n",
    "\n",
    "---\n",
    "\n",
    "## Starter Code to Generate Random Geographic Coordinates and a List of Cities"
   ]
  },
  {
   "cell_type": "code",
   "execution_count": 1,
   "metadata": {
    "scrolled": true
   },
   "outputs": [],
   "source": [
    "# Dependencies and Setup\n",
    "import matplotlib.pyplot as plt\n",
    "import pandas as pd\n",
    "import numpy as np\n",
    "import requests\n",
    "import time\n",
    "from scipy.stats import linregress\n",
    "\n",
    "\n",
    "# Impor the OpenWeatherMap API key\n",
    "from api_keys import weather_api_key\n",
    "\n",
    "# Import citipy to determine the cities based on latitude and longitude\n",
    "from citipy import citipy"
   ]
  },
  {
   "cell_type": "markdown",
   "metadata": {},
   "source": [
    "### Generate the Cities List by Using the `citipy` Library"
   ]
  },
  {
   "cell_type": "code",
   "execution_count": 2,
   "metadata": {},
   "outputs": [
    {
     "name": "stdout",
     "output_type": "stream",
     "text": [
      "Number of cities in the list: 611\n"
     ]
    }
   ],
   "source": [
    "# Empty list for holding the latitude and longitude combinations\n",
    "lat_lngs = []\n",
    "\n",
    "# Empty list for holding the cities names\n",
    "cities = []\n",
    "\n",
    "# Range of latitudes and longitudes\n",
    "lat_range = (-90, 90)\n",
    "lng_range = (-180, 180)\n",
    "\n",
    "# Create a set of random lat and lng combinations\n",
    "lats = np.random.uniform(lat_range[0], lat_range[1], size=1500)\n",
    "lngs = np.random.uniform(lng_range[0], lng_range[1], size=1500)\n",
    "lat_lngs = zip(lats, lngs)\n",
    "\n",
    "# Identify nearest city for each lat, lng combination\n",
    "for lat_lng in lat_lngs:\n",
    "    city = citipy.nearest_city(lat_lng[0], lat_lng[1]).city_name\n",
    "    \n",
    "    # If the city is unique, then add it to a our cities list\n",
    "    if city not in cities:\n",
    "        cities.append(city)\n",
    "\n",
    "# Print the city count to confirm sufficient count\n",
    "print(f\"Number of cities in the list: {len(cities)}\")"
   ]
  },
  {
   "cell_type": "markdown",
   "metadata": {},
   "source": [
    "---"
   ]
  },
  {
   "cell_type": "markdown",
   "metadata": {},
   "source": [
    "## Requirement 1: Create Plots to Showcase the Relationship Between Weather Variables and Latitude\n",
    "\n",
    "### Use the OpenWeatherMap API to retrieve weather data from the cities list generated in the started code"
   ]
  },
  {
   "cell_type": "code",
   "execution_count": null,
   "metadata": {},
   "outputs": [
    {
     "name": "stdout",
     "output_type": "stream",
     "text": [
      "Beginning Data Retrieval     \n",
      "-----------------------------\n",
      "Processing Record 1 of Set 1 | shenjiamen\n",
      "Processing Record 2 of Set 1 | klyuchi\n",
      "Processing Record 3 of Set 1 | puerto armuelles\n",
      "Processing Record 4 of Set 1 | olonkinbyen\n",
      "Processing Record 5 of Set 1 | buarcos\n",
      "Processing Record 6 of Set 1 | xai-xai\n",
      "Processing Record 7 of Set 1 | akureyri\n",
      "Processing Record 8 of Set 1 | puerto ayora\n",
      "Processing Record 9 of Set 1 | toliara\n",
      "Processing Record 10 of Set 1 | port-aux-francais\n",
      "Processing Record 11 of Set 1 | durban\n",
      "Processing Record 12 of Set 1 | kodiak\n",
      "Processing Record 13 of Set 1 | antalaha\n",
      "Processing Record 14 of Set 1 | avarua\n",
      "Processing Record 15 of Set 1 | bethel\n",
      "Processing Record 16 of Set 1 | punta del este\n",
      "Processing Record 17 of Set 1 | antofagasta\n",
      "Processing Record 18 of Set 1 | laojunmiao\n",
      "Processing Record 19 of Set 1 | sale\n",
      "Processing Record 20 of Set 1 | vradiyivka\n",
      "Processing Record 21 of Set 1 | yellowknife\n",
      "Processing Record 22 of Set 1 | grytviken\n",
      "Processing Record 23 of Set 1 | waitangi\n",
      "Processing Record 24 of Set 1 | edinburgh of the seven seas\n",
      "Processing Record 25 of Set 1 | inyonga\n",
      "Processing Record 26 of Set 1 | batyrevo\n",
      "Processing Record 27 of Set 1 | west hattiesburg\n",
      "Processing Record 28 of Set 1 | ushuaia\n",
      "Processing Record 29 of Set 1 | bikenibeu village\n",
      "Processing Record 30 of Set 1 | ilulissat\n",
      "Processing Record 31 of Set 1 | puerto natales\n",
      "Processing Record 32 of Set 1 | invercargill\n",
      "Processing Record 33 of Set 1 | tura\n",
      "Processing Record 34 of Set 1 | sao raimundo das mangabeiras\n",
      "Processing Record 35 of Set 1 | bani walid\n",
      "Processing Record 36 of Set 1 | albany\n",
      "Processing Record 37 of Set 1 | ust-nera\n",
      "Processing Record 38 of Set 1 | ribeira grande\n",
      "Processing Record 39 of Set 1 | port lincoln\n",
      "Processing Record 40 of Set 1 | ceeldheer\n",
      "Processing Record 41 of Set 1 | mezhdurechenskiy\n",
      "Processing Record 42 of Set 1 | borogontsy\n",
      "Processing Record 43 of Set 1 | puerto leguizamo\n",
      "Processing Record 44 of Set 1 | la passe\n",
      "Processing Record 45 of Set 1 | tomatlan\n",
      "Processing Record 46 of Set 1 | adamstown\n",
      "Processing Record 47 of Set 1 | phan rang-thap cham\n",
      "Processing Record 48 of Set 1 | gadzhiyevo\n",
      "Processing Record 49 of Set 1 | margaret river\n",
      "Processing Record 50 of Set 1 | eilat\n",
      "Processing Record 0 of Set 2 | esikhaleni\n",
      "Processing Record 1 of Set 2 | nar'yan-mar\n",
      "Processing Record 2 of Set 2 | vingt cinq\n",
      "City not found. Skipping...\n",
      "Processing Record 3 of Set 2 | hithadhoo\n",
      "Processing Record 4 of Set 2 | saipan\n",
      "Processing Record 5 of Set 2 | sangmelima\n",
      "Processing Record 6 of Set 2 | papatowai\n",
      "Processing Record 7 of Set 2 | alo\n",
      "Processing Record 8 of Set 2 | grand falls-windsor\n",
      "Processing Record 9 of Set 2 | cacu\n",
      "Processing Record 10 of Set 2 | cole harbour\n",
      "Processing Record 11 of Set 2 | college\n",
      "Processing Record 12 of Set 2 | rattvik\n",
      "City not found. Skipping...\n",
      "Processing Record 13 of Set 2 | hamilton\n",
      "Processing Record 14 of Set 2 | polyarnyy\n",
      "Processing Record 15 of Set 2 | iqaluit\n",
      "Processing Record 16 of Set 2 | udachny\n",
      "Processing Record 17 of Set 2 | afaahiti\n",
      "Processing Record 18 of Set 2 | kiunga\n",
      "Processing Record 19 of Set 2 | tromso\n",
      "Processing Record 20 of Set 2 | atafu village\n",
      "Processing Record 21 of Set 2 | blackmans bay\n",
      "Processing Record 22 of Set 2 | tambura\n",
      "Processing Record 23 of Set 2 | trinidad\n",
      "Processing Record 24 of Set 2 | nemuro\n",
      "Processing Record 25 of Set 2 | qamdo\n",
      "Processing Record 26 of Set 2 | jieshi\n",
      "Processing Record 27 of Set 2 | kimbe\n",
      "Processing Record 28 of Set 2 | victorica\n",
      "Processing Record 29 of Set 2 | port mathurin\n",
      "Processing Record 30 of Set 2 | carauari\n",
      "Processing Record 31 of Set 2 | stanley\n",
      "Processing Record 32 of Set 2 | ierapetra\n",
      "Processing Record 33 of Set 2 | luganville\n",
      "Processing Record 34 of Set 2 | taiohae\n",
      "City not found. Skipping...\n",
      "Processing Record 35 of Set 2 | tsiombe\n",
      "Processing Record 36 of Set 2 | bilibino\n",
      "Processing Record 37 of Set 2 | yuzhno-kurilsk\n",
      "Processing Record 38 of Set 2 | harar\n",
      "Processing Record 39 of Set 2 | mocimboa\n",
      "Processing Record 40 of Set 2 | praia da vitoria\n",
      "Processing Record 41 of Set 2 | agnibilekrou\n",
      "Processing Record 42 of Set 2 | chamzinka\n",
      "Processing Record 43 of Set 2 | harstad\n",
      "Processing Record 44 of Set 2 | uturoa\n",
      "Processing Record 45 of Set 2 | haenam\n",
      "Processing Record 46 of Set 2 | tarawa\n",
      "Processing Record 47 of Set 2 | okha\n",
      "Processing Record 48 of Set 2 | khomeyn\n",
      "Processing Record 49 of Set 2 | turinsk\n",
      "Processing Record 0 of Set 3 | east london\n",
      "Processing Record 1 of Set 3 | hobyo\n",
      "Processing Record 2 of Set 3 | aasiaat\n",
      "Processing Record 3 of Set 3 | musay'id\n",
      "City not found. Skipping...\n",
      "Processing Record 4 of Set 3 | al jawf\n",
      "Processing Record 5 of Set 3 | thompson\n",
      "Processing Record 6 of Set 3 | colby\n",
      "Processing Record 7 of Set 3 | hawaiian paradise park\n",
      "Processing Record 8 of Set 3 | floro\n",
      "Processing Record 9 of Set 3 | laguna\n",
      "Processing Record 10 of Set 3 | gambiran satu\n",
      "Processing Record 11 of Set 3 | pimentel\n",
      "Processing Record 12 of Set 3 | devinuwara\n",
      "City not found. Skipping...\n",
      "Processing Record 13 of Set 3 | fort bragg\n",
      "Processing Record 14 of Set 3 | bredasdorp\n",
      "Processing Record 15 of Set 3 | jiayuguan\n",
      "Processing Record 16 of Set 3 | sterling\n",
      "Processing Record 17 of Set 3 | chanika\n",
      "Processing Record 18 of Set 3 | qarauyl\n",
      "Processing Record 19 of Set 3 | poronaysk\n",
      "Processing Record 20 of Set 3 | jamestown\n",
      "Processing Record 21 of Set 3 | happy valley-goose bay\n",
      "Processing Record 22 of Set 3 | saudarkrokur\n",
      "Processing Record 23 of Set 3 | crane\n",
      "Processing Record 24 of Set 3 | taoudenni\n",
      "Processing Record 25 of Set 3 | turpan\n",
      "Processing Record 26 of Set 3 | yanchep\n",
      "Processing Record 27 of Set 3 | linares\n",
      "Processing Record 28 of Set 3 | sao joao da barra\n",
      "Processing Record 29 of Set 3 | carutapera\n",
      "Processing Record 30 of Set 3 | longyearbyen\n",
      "Processing Record 31 of Set 3 | yigo village\n",
      "Processing Record 32 of Set 3 | binkolo\n",
      "Processing Record 33 of Set 3 | lulea\n",
      "Processing Record 34 of Set 3 | petropavlovsk-kamchatsky\n",
      "Processing Record 35 of Set 3 | port elizabeth\n",
      "Processing Record 36 of Set 3 | tabou\n",
      "Processing Record 37 of Set 3 | naguabo\n",
      "Processing Record 38 of Set 3 | lorengau\n",
      "Processing Record 39 of Set 3 | cabedelo\n",
      "Processing Record 40 of Set 3 | 'ohonua\n",
      "City not found. Skipping...\n",
      "Processing Record 41 of Set 3 | bonthe\n",
      "Processing Record 42 of Set 3 | dawson creek\n",
      "Processing Record 43 of Set 3 | usinsk\n",
      "Processing Record 44 of Set 3 | tamandare\n",
      "Processing Record 45 of Set 3 | aquidauana\n",
      "Processing Record 46 of Set 3 | utrik\n",
      "Processing Record 47 of Set 3 | west island\n",
      "Processing Record 48 of Set 3 | espargos\n",
      "City not found. Skipping...\n",
      "Processing Record 49 of Set 3 | nova sintra\n",
      "Processing Record 0 of Set 4 | georgetown\n",
      "Processing Record 1 of Set 4 | pathein\n",
      "Processing Record 2 of Set 4 | yatou\n",
      "Processing Record 3 of Set 4 | staroshcherbinovskaya\n",
      "Processing Record 4 of Set 4 | cidreira\n",
      "Processing Record 5 of Set 4 | bodo\n",
      "Processing Record 6 of Set 4 | khemis miliana\n",
      "Processing Record 7 of Set 4 | manato\n",
      "City not found. Skipping...\n",
      "Processing Record 8 of Set 4 | priozersk\n",
      "Processing Record 9 of Set 4 | vorgashor\n",
      "Processing Record 10 of Set 4 | kone\n",
      "Processing Record 11 of Set 4 | saurimo\n",
      "Processing Record 12 of Set 4 | howrah\n",
      "Processing Record 13 of Set 4 | whitehorse\n",
      "Processing Record 14 of Set 4 | haiku-pauwela\n",
      "Processing Record 15 of Set 4 | puerto san carlos\n",
      "City not found. Skipping...\n",
      "Processing Record 16 of Set 4 | nadi\n",
      "Processing Record 17 of Set 4 | tiksi\n",
      "Processing Record 18 of Set 4 | saint-benoit\n",
      "Processing Record 19 of Set 4 | san pedro pochutla\n",
      "Processing Record 20 of Set 4 | arawa\n",
      "Processing Record 21 of Set 4 | punta arenas\n",
      "Processing Record 22 of Set 4 | fale old settlement\n",
      "Processing Record 23 of Set 4 | enewetak\n",
      "Processing Record 24 of Set 4 | mata-utu\n",
      "Processing Record 25 of Set 4 | wailua homesteads\n",
      "Processing Record 26 of Set 4 | ancud\n",
      "Processing Record 27 of Set 4 | boa vista\n",
      "Processing Record 28 of Set 4 | seydi\n",
      "Processing Record 29 of Set 4 | sinabang\n",
      "Processing Record 30 of Set 4 | nantucket\n",
      "Processing Record 31 of Set 4 | sao vicente\n",
      "Processing Record 32 of Set 4 | karasburg\n",
      "Processing Record 33 of Set 4 | lebu\n",
      "Processing Record 34 of Set 4 | taunggyi\n",
      "Processing Record 35 of Set 4 | zeya\n",
      "Processing Record 36 of Set 4 | tondano\n"
     ]
    },
    {
     "name": "stdout",
     "output_type": "stream",
     "text": [
      "Processing Record 37 of Set 4 | undurkhaan\n",
      "Processing Record 38 of Set 4 | north tamworth\n",
      "Processing Record 39 of Set 4 | ploneour-lanvern\n",
      "Processing Record 40 of Set 4 | santa cruz\n",
      "Processing Record 41 of Set 4 | vila do maio\n",
      "Processing Record 42 of Set 4 | greymouth\n",
      "Processing Record 43 of Set 4 | seogwipo\n"
     ]
    }
   ],
   "source": [
    "# Set the API base URL\n",
    "url = f\"https://api.openweathermap.org/data/2.5/weather?appid={weather_api_key}&units=metric\"\n",
    "\n",
    "# Define an empty list to fetch the weather data for each city\n",
    "city_data = []\n",
    "\n",
    "# Print to logger\n",
    "print(\"Beginning Data Retrieval     \")\n",
    "print(\"-----------------------------\")\n",
    "\n",
    "# Create counters\n",
    "record_count = 1\n",
    "set_count = 1\n",
    "\n",
    "# Loop through all the cities in our list to fetch weather data\n",
    "for i, city in enumerate(cities):\n",
    "        \n",
    "    # Group cities in sets of 50 for logging purposes\n",
    "    if (i % 50 == 0 and i >= 50):\n",
    "        set_count += 1\n",
    "        record_count = 0\n",
    "\n",
    "    # Create endpoint URL with each city\n",
    "    city_url = f\"{url}&q={city}\"\n",
    "    \n",
    "    # Log the url, record, and set numbers\n",
    "    print(\"Processing Record %s of Set %s | %s\" % (record_count, set_count, city))\n",
    "\n",
    "    # Add 1 to the record count\n",
    "    record_count += 1\n",
    "\n",
    "    # Run an API request for each of the cities\n",
    "    try:\n",
    "        # Parse the JSON and retrieve data\n",
    "        city_weather = requests.get(city_url).json()\n",
    "\n",
    "        # Parse out latitude, longitude, max temp, humidity, cloudiness, wind speed, country, and date\n",
    "        city_lat = city_weather[\"coord\"][\"lat\"]\n",
    "        city_lng = city_weather[\"coord\"][\"lon\"]\n",
    "        city_max_temp = city_weather[\"main\"][\"temp_max\"] \n",
    "        city_humidity = city_weather[\"main\"][\"humidity\"]\n",
    "        city_clouds = city_weather[\"clouds\"][\"all\"]\n",
    "        city_wind = city_weather[\"wind\"][\"speed\"]\n",
    "        city_country = city_weather[\"sys\"][\"country\"]\n",
    "        city_date = city_weather[\"dt\"]\n",
    "\n",
    "        # Append the City information into city_data list\n",
    "        city_data.append({\"City\": city, \n",
    "                          \"Lat\": city_lat, \n",
    "                          \"Lng\": city_lng, \n",
    "                          \"Max Temp\": city_max_temp,\n",
    "                          \"Humidity\": city_humidity,\n",
    "                          \"Cloudiness\": city_clouds,\n",
    "                          \"Wind Speed\": city_wind,\n",
    "                          \"Country\": city_country,\n",
    "                          \"Date\": city_date})\n",
    "\n",
    "    # If an error is experienced, skip the city\n",
    "    except:\n",
    "        print(\"City not found. Skipping...\")\n",
    "        pass\n",
    "              \n",
    "# Indicate that Data Loading is complete \n",
    "print(\"-----------------------------\")\n",
    "print(\"Data Retrieval Complete      \")\n",
    "print(\"-----------------------------\")"
   ]
  },
  {
   "cell_type": "code",
   "execution_count": null,
   "metadata": {},
   "outputs": [],
   "source": [
    "# Convert the cities weather data into a Pandas DataFrame\n",
    "city_data_df = pd.DataFrame(city_data)\n",
    "    \n",
    "# Show Record Count\n",
    "city_data_df.count()\n",
    "# print(city_data_df)"
   ]
  },
  {
   "cell_type": "code",
   "execution_count": null,
   "metadata": {},
   "outputs": [],
   "source": [
    "# Display sample data\n",
    "city_data_df.head()"
   ]
  },
  {
   "cell_type": "code",
   "execution_count": null,
   "metadata": {},
   "outputs": [],
   "source": [
    "# Export the City_Data into a csv\n",
    "\n",
    "city_data_df.to_csv(\"cities.csv\", index_label=\"City_ID\")"
   ]
  },
  {
   "cell_type": "code",
   "execution_count": null,
   "metadata": {},
   "outputs": [],
   "source": [
    "# Read saved data\n",
    "city_data_df = pd.read_csv(\"cities.csv\", index_col=\"City_ID\")\n",
    "\n",
    "# Display sample data\n",
    "city_data_df.head()"
   ]
  },
  {
   "cell_type": "markdown",
   "metadata": {},
   "source": [
    "### Create the Scatter Plots Requested\n",
    "\n",
    "#### Latitude Vs. Temperature"
   ]
  },
  {
   "cell_type": "code",
   "execution_count": null,
   "metadata": {
    "tags": []
   },
   "outputs": [],
   "source": [
    "# Build scatter plot for latitude vs. temperature\n",
    "#scat1 = city_data_df[city_data_df[\"lat\"][\"temp_max\"]\n",
    "scat1 = city_data_df.groupby('City')[['Lat', 'Max Temp']].mean()\n",
    "\n",
    "# Incorporate the other graph properties\n",
    "plt.scatter(scat1['Lat'],city_data_df['Max Temp'])\n",
    "\n",
    "plt.xlabel('Latitude')\n",
    "plt.ylabel('Max Temperature (C)')\n",
    "plt.title('City Max Latitude vs. Temperature')\n",
    "plt.show()\n",
    "\n",
    "# Save the figure\n",
    "plt.savefig(\"scat1_latVtemp.png\")\n",
    "\n",
    "# Show plot\n",
    "plt.show()"
   ]
  },
  {
   "cell_type": "markdown",
   "metadata": {},
   "source": [
    "#### Latitude Vs. Humidity"
   ]
  },
  {
   "cell_type": "code",
   "execution_count": null,
   "metadata": {},
   "outputs": [],
   "source": [
    "# Build the scatter plots for latitude vs. humidity\n",
    "scat2 = city_data_df.groupby('City')[['Lat', 'Humidity']].mean()\n",
    "\n",
    "# Incorporate the other graph properties\n",
    "plt.scatter(scat1['Lat'],city_data_df['Humidity'])\n",
    "\n",
    "plt.xlabel('Latitude')\n",
    "plt.ylabel('Humidity (%)')\n",
    "plt.title('City Max Latitude vs. Humidity')\n",
    "plt.show()\n",
    "\n",
    "# Save the figure\n",
    "plt.savefig(\"scat2_latVhumd.png\")\n",
    "\n",
    "# Show plot\n",
    "plt.show()"
   ]
  },
  {
   "cell_type": "markdown",
   "metadata": {},
   "source": [
    "#### Latitude Vs. Cloudiness"
   ]
  },
  {
   "cell_type": "code",
   "execution_count": null,
   "metadata": {},
   "outputs": [],
   "source": [
    "# Build the scatter plots for latitude vs. cloudiness\n",
    "scat3 = city_data_df.groupby('City')[['Lat', 'Cloudiness']].mean()\n",
    "\n",
    "# Incorporate the other graph properties\n",
    "plt.scatter(scat1['Lat'],city_data_df['Cloudiness'])\n",
    "\n",
    "plt.xlabel('Latitude')\n",
    "plt.ylabel('Cloudiness (%)')\n",
    "plt.title('City Max Latitude vs. Cloudiness')\n",
    "plt.show()\n",
    "\n",
    "# Save the figure\n",
    "plt.savefig(\"scat3_latVcloud.png\")\n",
    "\n",
    "# Show plot\n",
    "plt.show()"
   ]
  },
  {
   "cell_type": "markdown",
   "metadata": {},
   "source": [
    "#### Latitude vs. Wind Speed Plot"
   ]
  },
  {
   "cell_type": "code",
   "execution_count": null,
   "metadata": {},
   "outputs": [],
   "source": [
    "# Build the scatter plots for latitude vs. wind speed\n",
    "scat4 = city_data_df.groupby('City')[['Lat', 'Wind Speed']].mean()\n",
    "\n",
    "# Incorporate the other graph properties\n",
    "plt.scatter(scat1['Lat'],city_data_df['Wind Speed'])\n",
    "\n",
    "plt.xlabel('Latitude')\n",
    "plt.ylabel('Wind Speed (m/s)')\n",
    "plt.title('City Max Latitude vs. Wind Speed')\n",
    "plt.show()\n",
    "\n",
    "# Save the figure\n",
    "plt.savefig(\"scat4_latVwndspd.png\")\n",
    "\n",
    "# Show plot\n",
    "plt.show()"
   ]
  },
  {
   "cell_type": "markdown",
   "metadata": {},
   "source": [
    "---\n",
    "\n",
    "## Requirement 2: Compute Linear Regression for Each Relationship\n"
   ]
  },
  {
   "cell_type": "code",
   "execution_count": null,
   "metadata": {},
   "outputs": [],
   "source": [
    "# Define a function to create Linear Regression plots\n",
    "def plot_linear_regression(x_values, y_values, title, text_coordinates):\n",
    "    \n",
    "    # Compute linear regression\n",
    "    (slope, intercept, rvalue, pvalue, stderr) = linregress(x_values, y_values)\n",
    "    regress_values = x_values * slope + intercept\n",
    "    line_eq = \"y = \" + str(round(slope,2)) + \"x + \" + str(round(intercept,2))\n",
    "\n",
    "    # Plot\n",
    "    plt.scatter(x_values,y_values)\n",
    "    plt.plot(x_values,regress_values,\"r-\")\n",
    "    plt.annotate(line_eq,text_coordinates,fontsize=15,color=\"red\")\n",
    "    plt.xlabel(\"Latitude\")\n",
    "    plt.ylabel(title)\n",
    "    print(f\"The r-value is: {rvalue**2}\")\n",
    "    plt.show()\n"
   ]
  },
  {
   "cell_type": "code",
   "execution_count": null,
   "metadata": {},
   "outputs": [],
   "source": [
    "# Create a DataFrame with the Northern Hemisphere data (Latitude >= 0)\n",
    "northern_hemi_df = city_data_df[city_data_df['Lat'] >= 0]\n",
    "\n",
    "# Display sample data\n",
    "northern_hemi_df.head()"
   ]
  },
  {
   "cell_type": "code",
   "execution_count": null,
   "metadata": {},
   "outputs": [],
   "source": [
    "# Create a DataFrame with the Southern Hemisphere data (Latitude < 0)\n",
    "southern_hemi_df = city_data_df[city_data_df['Lat'] < 0]\n",
    "\n",
    "# Display sample data\n",
    "southern_hemi_df.head()"
   ]
  },
  {
   "cell_type": "markdown",
   "metadata": {},
   "source": [
    "###  Temperature vs. Latitude Linear Regression Plot"
   ]
  },
  {
   "cell_type": "code",
   "execution_count": null,
   "metadata": {},
   "outputs": [],
   "source": [
    "# Linear regression on Northern Hemisphere\n",
    "x_values = northern_hemi_df[\"Lat\"]\n",
    "y_values = northern_hemi_df[\"Max Temp\"]\n",
    "plot_linear_regression(x_values, y_values, \"Max Temp\",(6,-10))"
   ]
  },
  {
   "cell_type": "code",
   "execution_count": null,
   "metadata": {},
   "outputs": [],
   "source": [
    "# Linear regression on Southern Hemisphere\n",
    "# YOUR CODE HERE"
   ]
  },
  {
   "cell_type": "markdown",
   "metadata": {},
   "source": [
    "**Discussion about the linear relationship:** YOUR RESPONSE HERE"
   ]
  },
  {
   "cell_type": "markdown",
   "metadata": {},
   "source": [
    "### Humidity vs. Latitude Linear Regression Plot"
   ]
  },
  {
   "cell_type": "code",
   "execution_count": null,
   "metadata": {},
   "outputs": [],
   "source": [
    "# Northern Hemisphere\n",
    "# YOUR CODE HERE"
   ]
  },
  {
   "cell_type": "code",
   "execution_count": null,
   "metadata": {},
   "outputs": [],
   "source": [
    "# Southern Hemisphere\n",
    "# YOUR CODE HERE"
   ]
  },
  {
   "cell_type": "markdown",
   "metadata": {},
   "source": [
    "**Discussion about the linear relationship:** YOUR RESPONSE HERE"
   ]
  },
  {
   "cell_type": "markdown",
   "metadata": {},
   "source": [
    "### Cloudiness vs. Latitude Linear Regression Plot"
   ]
  },
  {
   "cell_type": "code",
   "execution_count": null,
   "metadata": {},
   "outputs": [],
   "source": [
    "# Northern Hemisphere\n",
    "# YOUR CODE HERE"
   ]
  },
  {
   "cell_type": "code",
   "execution_count": null,
   "metadata": {},
   "outputs": [],
   "source": [
    "# Southern Hemisphere\n",
    "# YOUR CODE HERE"
   ]
  },
  {
   "cell_type": "markdown",
   "metadata": {},
   "source": [
    "**Discussion about the linear relationship:** YOUR RESPONSE HERE"
   ]
  },
  {
   "cell_type": "markdown",
   "metadata": {},
   "source": [
    "### Wind Speed vs. Latitude Linear Regression Plot"
   ]
  },
  {
   "cell_type": "code",
   "execution_count": null,
   "metadata": {},
   "outputs": [],
   "source": [
    "# Northern Hemisphere\n",
    "# YOUR CODE HERE"
   ]
  },
  {
   "cell_type": "code",
   "execution_count": null,
   "metadata": {},
   "outputs": [],
   "source": [
    "# Southern Hemisphere\n",
    "# YOUR CODE HERE"
   ]
  },
  {
   "cell_type": "markdown",
   "metadata": {},
   "source": [
    "**Discussion about the linear relationship:** YOUR RESPONSE HERE"
   ]
  },
  {
   "cell_type": "code",
   "execution_count": null,
   "metadata": {},
   "outputs": [],
   "source": []
  }
 ],
 "metadata": {
  "anaconda-cloud": {},
  "kernel_info": {
   "name": "python3"
  },
  "kernelspec": {
   "display_name": "Python 3 (ipykernel)",
   "language": "python",
   "name": "python3"
  },
  "language_info": {
   "codemirror_mode": {
    "name": "ipython",
    "version": 3
   },
   "file_extension": ".py",
   "mimetype": "text/x-python",
   "name": "python",
   "nbconvert_exporter": "python",
   "pygments_lexer": "ipython3",
   "version": "3.11.5"
  },
  "latex_envs": {
   "LaTeX_envs_menu_present": true,
   "autoclose": false,
   "autocomplete": true,
   "bibliofile": "biblio.bib",
   "cite_by": "apalike",
   "current_citInitial": 1,
   "eqLabelWithNumbers": true,
   "eqNumInitial": 1,
   "hotkeys": {
    "equation": "Ctrl-E",
    "itemize": "Ctrl-I"
   },
   "labels_anchors": false,
   "latex_user_defs": false,
   "report_style_numbering": false,
   "user_envs_cfg": false
  },
  "nteract": {
   "version": "0.12.3"
  }
 },
 "nbformat": 4,
 "nbformat_minor": 4
}
